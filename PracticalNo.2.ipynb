{
 "cells": [
  {
   "cell_type": "markdown",
   "id": "ce9c30e2",
   "metadata": {},
   "source": [
    "<h1><b>PRACTICAL 2</b></h1><h1>Data science and Visualization </h1><br><font color=\"black\"><h3><font color=\"blue\">NAME:</font> AAYUSHI DIGHE</h3><h3><b><font color=\"blue\">PRN:</font> 72017865H</b></h3><h3><font color=\"blue\">CLASS:</font> TE ENTC A</h3></font>"
   ]
  },
  {
   "cell_type": "markdown",
   "id": "e143c004",
   "metadata": {},
   "source": [
    "In this practical we will predict the probability os survival on the basis of age,gender and passenger class in titanic dataset."
   ]
  },
  {
   "cell_type": "markdown",
   "id": "784d6239",
   "metadata": {},
   "source": [
    "*Firstly,we will import certain libraries.*"
   ]
  },
  {
   "cell_type": "code",
   "execution_count": 1,
   "id": "511cd82f",
   "metadata": {},
   "outputs": [],
   "source": [
    "import numpy as np #This library provide support to the arrays\n",
    "import seaborn as sns #Library for data visualization\n",
    "import pandas as pd #for data manipulation"
   ]
  },
  {
   "cell_type": "code",
   "execution_count": 2,
   "id": "7256bf07",
   "metadata": {},
   "outputs": [],
   "source": [
    "ds = sns.load_dataset('titanic') #The titanic dataset is already built in seaborn library"
   ]
  },
  {
   "cell_type": "code",
   "execution_count": 3,
   "id": "6d4e790b",
   "metadata": {},
   "outputs": [
    {
     "data": {
      "text/html": [
       "<div>\n",
       "<style scoped>\n",
       "    .dataframe tbody tr th:only-of-type {\n",
       "        vertical-align: middle;\n",
       "    }\n",
       "\n",
       "    .dataframe tbody tr th {\n",
       "        vertical-align: top;\n",
       "    }\n",
       "\n",
       "    .dataframe thead th {\n",
       "        text-align: right;\n",
       "    }\n",
       "</style>\n",
       "<table border=\"1\" class=\"dataframe\">\n",
       "  <thead>\n",
       "    <tr style=\"text-align: right;\">\n",
       "      <th></th>\n",
       "      <th>survived</th>\n",
       "      <th>pclass</th>\n",
       "      <th>sex</th>\n",
       "      <th>age</th>\n",
       "      <th>sibsp</th>\n",
       "      <th>parch</th>\n",
       "      <th>fare</th>\n",
       "      <th>embarked</th>\n",
       "      <th>class</th>\n",
       "      <th>who</th>\n",
       "      <th>adult_male</th>\n",
       "      <th>deck</th>\n",
       "      <th>embark_town</th>\n",
       "      <th>alive</th>\n",
       "      <th>alone</th>\n",
       "    </tr>\n",
       "  </thead>\n",
       "  <tbody>\n",
       "    <tr>\n",
       "      <th>0</th>\n",
       "      <td>0</td>\n",
       "      <td>3</td>\n",
       "      <td>male</td>\n",
       "      <td>22.0</td>\n",
       "      <td>1</td>\n",
       "      <td>0</td>\n",
       "      <td>7.2500</td>\n",
       "      <td>S</td>\n",
       "      <td>Third</td>\n",
       "      <td>man</td>\n",
       "      <td>True</td>\n",
       "      <td>NaN</td>\n",
       "      <td>Southampton</td>\n",
       "      <td>no</td>\n",
       "      <td>False</td>\n",
       "    </tr>\n",
       "    <tr>\n",
       "      <th>1</th>\n",
       "      <td>1</td>\n",
       "      <td>1</td>\n",
       "      <td>female</td>\n",
       "      <td>38.0</td>\n",
       "      <td>1</td>\n",
       "      <td>0</td>\n",
       "      <td>71.2833</td>\n",
       "      <td>C</td>\n",
       "      <td>First</td>\n",
       "      <td>woman</td>\n",
       "      <td>False</td>\n",
       "      <td>C</td>\n",
       "      <td>Cherbourg</td>\n",
       "      <td>yes</td>\n",
       "      <td>False</td>\n",
       "    </tr>\n",
       "    <tr>\n",
       "      <th>2</th>\n",
       "      <td>1</td>\n",
       "      <td>3</td>\n",
       "      <td>female</td>\n",
       "      <td>26.0</td>\n",
       "      <td>0</td>\n",
       "      <td>0</td>\n",
       "      <td>7.9250</td>\n",
       "      <td>S</td>\n",
       "      <td>Third</td>\n",
       "      <td>woman</td>\n",
       "      <td>False</td>\n",
       "      <td>NaN</td>\n",
       "      <td>Southampton</td>\n",
       "      <td>yes</td>\n",
       "      <td>True</td>\n",
       "    </tr>\n",
       "    <tr>\n",
       "      <th>3</th>\n",
       "      <td>1</td>\n",
       "      <td>1</td>\n",
       "      <td>female</td>\n",
       "      <td>35.0</td>\n",
       "      <td>1</td>\n",
       "      <td>0</td>\n",
       "      <td>53.1000</td>\n",
       "      <td>S</td>\n",
       "      <td>First</td>\n",
       "      <td>woman</td>\n",
       "      <td>False</td>\n",
       "      <td>C</td>\n",
       "      <td>Southampton</td>\n",
       "      <td>yes</td>\n",
       "      <td>False</td>\n",
       "    </tr>\n",
       "    <tr>\n",
       "      <th>4</th>\n",
       "      <td>0</td>\n",
       "      <td>3</td>\n",
       "      <td>male</td>\n",
       "      <td>35.0</td>\n",
       "      <td>0</td>\n",
       "      <td>0</td>\n",
       "      <td>8.0500</td>\n",
       "      <td>S</td>\n",
       "      <td>Third</td>\n",
       "      <td>man</td>\n",
       "      <td>True</td>\n",
       "      <td>NaN</td>\n",
       "      <td>Southampton</td>\n",
       "      <td>no</td>\n",
       "      <td>True</td>\n",
       "    </tr>\n",
       "    <tr>\n",
       "      <th>5</th>\n",
       "      <td>0</td>\n",
       "      <td>3</td>\n",
       "      <td>male</td>\n",
       "      <td>NaN</td>\n",
       "      <td>0</td>\n",
       "      <td>0</td>\n",
       "      <td>8.4583</td>\n",
       "      <td>Q</td>\n",
       "      <td>Third</td>\n",
       "      <td>man</td>\n",
       "      <td>True</td>\n",
       "      <td>NaN</td>\n",
       "      <td>Queenstown</td>\n",
       "      <td>no</td>\n",
       "      <td>True</td>\n",
       "    </tr>\n",
       "    <tr>\n",
       "      <th>6</th>\n",
       "      <td>0</td>\n",
       "      <td>1</td>\n",
       "      <td>male</td>\n",
       "      <td>54.0</td>\n",
       "      <td>0</td>\n",
       "      <td>0</td>\n",
       "      <td>51.8625</td>\n",
       "      <td>S</td>\n",
       "      <td>First</td>\n",
       "      <td>man</td>\n",
       "      <td>True</td>\n",
       "      <td>E</td>\n",
       "      <td>Southampton</td>\n",
       "      <td>no</td>\n",
       "      <td>True</td>\n",
       "    </tr>\n",
       "    <tr>\n",
       "      <th>7</th>\n",
       "      <td>0</td>\n",
       "      <td>3</td>\n",
       "      <td>male</td>\n",
       "      <td>2.0</td>\n",
       "      <td>3</td>\n",
       "      <td>1</td>\n",
       "      <td>21.0750</td>\n",
       "      <td>S</td>\n",
       "      <td>Third</td>\n",
       "      <td>child</td>\n",
       "      <td>False</td>\n",
       "      <td>NaN</td>\n",
       "      <td>Southampton</td>\n",
       "      <td>no</td>\n",
       "      <td>False</td>\n",
       "    </tr>\n",
       "    <tr>\n",
       "      <th>8</th>\n",
       "      <td>1</td>\n",
       "      <td>3</td>\n",
       "      <td>female</td>\n",
       "      <td>27.0</td>\n",
       "      <td>0</td>\n",
       "      <td>2</td>\n",
       "      <td>11.1333</td>\n",
       "      <td>S</td>\n",
       "      <td>Third</td>\n",
       "      <td>woman</td>\n",
       "      <td>False</td>\n",
       "      <td>NaN</td>\n",
       "      <td>Southampton</td>\n",
       "      <td>yes</td>\n",
       "      <td>False</td>\n",
       "    </tr>\n",
       "    <tr>\n",
       "      <th>9</th>\n",
       "      <td>1</td>\n",
       "      <td>2</td>\n",
       "      <td>female</td>\n",
       "      <td>14.0</td>\n",
       "      <td>1</td>\n",
       "      <td>0</td>\n",
       "      <td>30.0708</td>\n",
       "      <td>C</td>\n",
       "      <td>Second</td>\n",
       "      <td>child</td>\n",
       "      <td>False</td>\n",
       "      <td>NaN</td>\n",
       "      <td>Cherbourg</td>\n",
       "      <td>yes</td>\n",
       "      <td>False</td>\n",
       "    </tr>\n",
       "  </tbody>\n",
       "</table>\n",
       "</div>"
      ],
      "text/plain": [
       "   survived  pclass     sex   age  sibsp  parch     fare embarked   class  \\\n",
       "0         0       3    male  22.0      1      0   7.2500        S   Third   \n",
       "1         1       1  female  38.0      1      0  71.2833        C   First   \n",
       "2         1       3  female  26.0      0      0   7.9250        S   Third   \n",
       "3         1       1  female  35.0      1      0  53.1000        S   First   \n",
       "4         0       3    male  35.0      0      0   8.0500        S   Third   \n",
       "5         0       3    male   NaN      0      0   8.4583        Q   Third   \n",
       "6         0       1    male  54.0      0      0  51.8625        S   First   \n",
       "7         0       3    male   2.0      3      1  21.0750        S   Third   \n",
       "8         1       3  female  27.0      0      2  11.1333        S   Third   \n",
       "9         1       2  female  14.0      1      0  30.0708        C  Second   \n",
       "\n",
       "     who  adult_male deck  embark_town alive  alone  \n",
       "0    man        True  NaN  Southampton    no  False  \n",
       "1  woman       False    C    Cherbourg   yes  False  \n",
       "2  woman       False  NaN  Southampton   yes   True  \n",
       "3  woman       False    C  Southampton   yes  False  \n",
       "4    man        True  NaN  Southampton    no   True  \n",
       "5    man        True  NaN   Queenstown    no   True  \n",
       "6    man        True    E  Southampton    no   True  \n",
       "7  child       False  NaN  Southampton    no  False  \n",
       "8  woman       False  NaN  Southampton   yes  False  \n",
       "9  child       False  NaN    Cherbourg   yes  False  "
      ]
     },
     "execution_count": 3,
     "metadata": {},
     "output_type": "execute_result"
    }
   ],
   "source": [
    "ds.head(10) #Displaying the first 10 rows"
   ]
  },
  {
   "cell_type": "code",
   "execution_count": 4,
   "id": "fa0b8e1b",
   "metadata": {},
   "outputs": [
    {
     "data": {
      "text/plain": [
       "891"
      ]
     },
     "execution_count": 4,
     "metadata": {},
     "output_type": "execute_result"
    }
   ],
   "source": [
    "len(ds) #To find the number of entries"
   ]
  },
  {
   "cell_type": "markdown",
   "id": "0f10baee",
   "metadata": {},
   "source": [
    "## Data Cleaning"
   ]
  },
  {
   "cell_type": "code",
   "execution_count": 5,
   "id": "427c520f",
   "metadata": {},
   "outputs": [],
   "source": [
    "ds['age'] = ds['age'].fillna(ds['age'].median()) \n",
    "#The Null or Not Available values in the Age Column will be replaced by the median values"
   ]
  },
  {
   "cell_type": "code",
   "execution_count": 6,
   "id": "a145dd8d",
   "metadata": {},
   "outputs": [],
   "source": [
    "x = ds['age'].values  #x is Input\n",
    "y = ds['survived']    #y is the output\n",
    "# We will predicting the number of survived persons(y) on the basis of their age(x)."
   ]
  },
  {
   "cell_type": "code",
   "execution_count": 7,
   "id": "046d7887",
   "metadata": {},
   "outputs": [
    {
     "data": {
      "text/plain": [
       "(891,)"
      ]
     },
     "execution_count": 7,
     "metadata": {},
     "output_type": "execute_result"
    }
   ],
   "source": [
    "x.shape #checking the shape"
   ]
  },
  {
   "cell_type": "code",
   "execution_count": 8,
   "id": "6feda475",
   "metadata": {},
   "outputs": [],
   "source": [
    "x=x.reshape(-1,1) #Reshaping the column.\n",
    "# -1 indicates to keep 891 as it is and 1 indicates to add 1 to the shaoe of column."
   ]
  },
  {
   "cell_type": "code",
   "execution_count": 9,
   "id": "60385630",
   "metadata": {},
   "outputs": [
    {
     "data": {
      "text/plain": [
       "(891, 1)"
      ]
     },
     "execution_count": 9,
     "metadata": {},
     "output_type": "execute_result"
    }
   ],
   "source": [
    "x.shape"
   ]
  },
  {
   "cell_type": "markdown",
   "id": "27f9d6c8",
   "metadata": {},
   "source": [
    "**Data Cleaning part has been completed.**"
   ]
  },
  {
   "cell_type": "markdown",
   "id": "be89c436",
   "metadata": {},
   "source": [
    "## Splitting the data for Testing and Training"
   ]
  },
  {
   "cell_type": "code",
   "execution_count": 10,
   "id": "645e77ba",
   "metadata": {},
   "outputs": [],
   "source": [
    "from sklearn.model_selection import train_test_split"
   ]
  },
  {
   "cell_type": "code",
   "execution_count": 11,
   "id": "93e2832f",
   "metadata": {},
   "outputs": [],
   "source": [
    "x_train,x_test,y_train,y_test = train_test_split(x,y,random_state=0,test_size=0.25)\n",
    "#test_size indicates how many samples should be present for test dataset.\n",
    "#Therefore,25% of the entries will got to test dataset and the rest 75% will go to train dataset."
   ]
  },
  {
   "cell_type": "code",
   "execution_count": 12,
   "id": "dcbe6acf",
   "metadata": {},
   "outputs": [
    {
     "data": {
      "text/plain": [
       "668"
      ]
     },
     "execution_count": 12,
     "metadata": {},
     "output_type": "execute_result"
    }
   ],
   "source": [
    "len(x_train)"
   ]
  },
  {
   "cell_type": "code",
   "execution_count": 13,
   "id": "abd90957",
   "metadata": {},
   "outputs": [
    {
     "data": {
      "text/plain": [
       "668"
      ]
     },
     "execution_count": 13,
     "metadata": {},
     "output_type": "execute_result"
    }
   ],
   "source": [
    "len(y_train)"
   ]
  },
  {
   "cell_type": "code",
   "execution_count": 14,
   "id": "20b06887",
   "metadata": {},
   "outputs": [
    {
     "data": {
      "text/plain": [
       "223"
      ]
     },
     "execution_count": 14,
     "metadata": {},
     "output_type": "execute_result"
    }
   ],
   "source": [
    "len(x_test)"
   ]
  },
  {
   "cell_type": "code",
   "execution_count": 15,
   "id": "559d31ad",
   "metadata": {},
   "outputs": [],
   "source": [
    "from collections import Counter"
   ]
  },
  {
   "cell_type": "code",
   "execution_count": 16,
   "id": "2a863d8b",
   "metadata": {},
   "outputs": [
    {
     "data": {
      "text/plain": [
       "<AxesSubplot:xlabel='survived', ylabel='count'>"
      ]
     },
     "execution_count": 16,
     "metadata": {},
     "output_type": "execute_result"
    },
    {
     "data": {
      "image/png": "[encoded data removed]",
      "text/plain": [
       "<Figure size 432x288 with 1 Axes>"
      ]
     },
     "metadata": {
      "needs_background": "light"
     },
     "output_type": "display_data"
    }
   ],
   "source": [
    "Counter(y)\n",
    "sns.countplot(x=y,palette=['yellow','red'])"
   ]
  },
  {
   "cell_type": "markdown",
   "id": "901a3705",
   "metadata": {},
   "source": [
    "*The counter will count the number of individuals who have survived and those who have not survived.*"
   ]
  },
  {
   "cell_type": "markdown",
   "id": "44ecd3fc",
   "metadata": {},
   "source": [
    "## Making the prediction using GaussianNB"
   ]
  },
  {
   "cell_type": "code",
   "execution_count": 17,
   "id": "f50dffb3",
   "metadata": {},
   "outputs": [],
   "source": [
    "from sklearn.naive_bayes import GaussianNB"
   ]
  },
  {
   "cell_type": "code",
   "execution_count": 18,
   "id": "1f01ab90",
   "metadata": {},
   "outputs": [],
   "source": [
    "model = GaussianNB()"
   ]
  },
  {
   "cell_type": "code",
   "execution_count": 19,
   "id": "f86d31f4",
   "metadata": {},
   "outputs": [
    {
     "data": {
      "text/plain": [
       "GaussianNB()"
      ]
     },
     "execution_count": 19,
     "metadata": {},
     "output_type": "execute_result"
    }
   ],
   "source": [
    "model.fit(x_train,y_train) #Fitting the model"
   ]
  },
  {
   "cell_type": "code",
   "execution_count": 20,
   "id": "e257fe82",
   "metadata": {},
   "outputs": [],
   "source": [
    "y_pred = model.predict_proba(x_test)  #Storing the predicted values in y_pred"
   ]
  },
  {
   "cell_type": "code",
   "execution_count": 21,
   "id": "8702d12b",
   "metadata": {},
   "outputs": [
    {
     "data": {
      "text/plain": [
       "array([[0.62876821, 0.37123179],\n",
       "       [0.62876821, 0.37123179],\n",
       "       [0.51657653, 0.48342347],\n",
       "       [0.62876821, 0.37123179],\n",
       "       [0.63148867, 0.36851133],\n",
       "       [0.62876821, 0.37123179],\n",
       "       [0.64689984, 0.35310016],\n",
       "       [0.63625703, 0.36374297],\n",
       "       [0.6192395 , 0.3807605 ],\n",
       "       [0.62876821, 0.37123179],\n",
       "       [0.62264556, 0.37735444],\n",
       "       [0.64689984, 0.35310016],\n",
       "       [0.62876821, 0.37123179],\n",
       "       [0.51657653, 0.48342347],\n",
       "       [0.61560095, 0.38439905],\n",
       "       [0.56600603, 0.43399397],\n",
       "       [0.61172787, 0.38827213],\n",
       "       [0.59385049, 0.40614951],\n",
       "       [0.64314813, 0.35685187],\n",
       "       [0.45943048, 0.54056952],\n",
       "       [0.58877545, 0.41122455],\n",
       "       [0.60761825, 0.39238175],\n",
       "       [0.62876821, 0.37123179],\n",
       "       [0.62876821, 0.37123179],\n",
       "       [0.60761825, 0.39238175],\n",
       "       [0.64689984, 0.35310016],\n",
       "       [0.63830829, 0.36169171],\n",
       "       [0.60761825, 0.39238175],\n",
       "       [0.6192395 , 0.3807605 ],\n",
       "       [0.47403058, 0.52596942],\n",
       "       [0.64013966, 0.35986034],\n",
       "       [0.63835894, 0.36164106],\n",
       "       [0.62876821, 0.37123179],\n",
       "       [0.62876821, 0.37123179],\n",
       "       [0.63148867, 0.36851133],\n",
       "       [0.63830829, 0.36169171],\n",
       "       [0.64658851, 0.35341149],\n",
       "       [0.62876821, 0.37123179],\n",
       "       [0.6192395 , 0.3807605 ],\n",
       "       [0.62884219, 0.37115781],\n",
       "       [0.60772869, 0.39227131],\n",
       "       [0.6192395 , 0.3807605 ],\n",
       "       [0.62876821, 0.37123179],\n",
       "       [0.56600603, 0.43399397],\n",
       "       [0.64314813, 0.35685187],\n",
       "       [0.62876821, 0.37123179],\n",
       "       [0.62876821, 0.37123179],\n",
       "       [0.58877545, 0.41122455],\n",
       "       [0.64657737, 0.35342263],\n",
       "       [0.6340466 , 0.3659534 ],\n",
       "       [0.62876821, 0.37123179],\n",
       "       [0.61172787, 0.38827213],\n",
       "       [0.49173773, 0.50826227],\n",
       "       [0.59385049, 0.40614951],\n",
       "       [0.62876821, 0.37123179],\n",
       "       [0.61560095, 0.38439905],\n",
       "       [0.59880446, 0.40119554],\n",
       "       [0.5463121 , 0.4536879 ],\n",
       "       [0.53924847, 0.46075153],\n",
       "       [0.62876821, 0.37123179],\n",
       "       [0.60761825, 0.39238175],\n",
       "       [0.63148867, 0.36851133],\n",
       "       [0.62884219, 0.37115781],\n",
       "       [0.62876821, 0.37123179],\n",
       "       [0.62582114, 0.37417886],\n",
       "       [0.63830829, 0.36169171],\n",
       "       [0.64018459, 0.35981541],\n",
       "       [0.62876821, 0.37123179],\n",
       "       [0.47403058, 0.52596942],\n",
       "       [0.59385049, 0.40614951],\n",
       "       [0.61560095, 0.38439905],\n",
       "       [0.64179176, 0.35820824],\n",
       "       [0.62876821, 0.37123179],\n",
       "       [0.62876821, 0.37123179],\n",
       "       [0.61744941, 0.38255059],\n",
       "       [0.63398437, 0.36601563],\n",
       "       [0.59385049, 0.40614951],\n",
       "       [0.64689984, 0.35310016],\n",
       "       [0.64175253, 0.35824747],\n",
       "       [0.62876821, 0.37123179],\n",
       "       [0.62876821, 0.37123179],\n",
       "       [0.53193679, 0.46806321],\n",
       "       [0.62264556, 0.37735444],\n",
       "       [0.57788703, 0.42211297],\n",
       "       [0.64435549, 0.35564451],\n",
       "       [0.6032701 , 0.3967299 ],\n",
       "       [0.64690541, 0.35309459],\n",
       "       [0.59397985, 0.40602015],\n",
       "       [0.64175253, 0.35824747],\n",
       "       [0.58877545, 0.41122455],\n",
       "       [0.62876821, 0.37123179],\n",
       "       [0.59385049, 0.40614951],\n",
       "       [0.48299524, 0.51700476],\n",
       "       [0.64605821, 0.35394179],\n",
       "       [0.53193679, 0.46806321],\n",
       "       [0.62876821, 0.37123179],\n",
       "       [0.61560095, 0.38439905],\n",
       "       [0.57788703, 0.42211297],\n",
       "       [0.60772869, 0.39227131],\n",
       "       [0.62582114, 0.37417886],\n",
       "       [0.56600603, 0.43399397],\n",
       "       [0.62884219, 0.37115781],\n",
       "       [0.59385049, 0.40614951],\n",
       "       [0.58877545, 0.41122455],\n",
       "       [0.63148867, 0.36851133],\n",
       "       [0.64314813, 0.35685187],\n",
       "       [0.62876821, 0.37123179],\n",
       "       [0.64700915, 0.35299085],\n",
       "       [0.6192395 , 0.3807605 ],\n",
       "       [0.62876821, 0.37123179],\n",
       "       [0.64179176, 0.35820824],\n",
       "       [0.60761825, 0.39238175],\n",
       "       [0.63830829, 0.36169171],\n",
       "       [0.62876821, 0.37123179],\n",
       "       [0.64432756, 0.35567244],\n",
       "       [0.62876821, 0.37123179],\n",
       "       [0.61560095, 0.38439905],\n",
       "       [0.58877545, 0.41122455],\n",
       "       [0.64689984, 0.35310016],\n",
       "       [0.64531408, 0.35468592],\n",
       "       [0.62876821, 0.37123179],\n",
       "       [0.62876821, 0.37123179],\n",
       "       [0.59868146, 0.40131854],\n",
       "       [0.64604149, 0.35395851],\n",
       "       [0.64013966, 0.35986034],\n",
       "       [0.61569902, 0.38430098],\n",
       "       [0.62876821, 0.37123179],\n",
       "       [0.6192395 , 0.3807605 ],\n",
       "       [0.62876821, 0.37123179],\n",
       "       [0.63631345, 0.36368655],\n",
       "       [0.6032701 , 0.3967299 ],\n",
       "       [0.6032701 , 0.3967299 ],\n",
       "       [0.6192395 , 0.3807605 ],\n",
       "       [0.59868146, 0.40131854],\n",
       "       [0.58891121, 0.41108879],\n",
       "       [0.6032701 , 0.3967299 ],\n",
       "       [0.62876821, 0.37123179],\n",
       "       [0.64689984, 0.35310016],\n",
       "       [0.64605821, 0.35394179],\n",
       "       [0.61172787, 0.38827213],\n",
       "       [0.62876821, 0.37123179],\n",
       "       [0.64013966, 0.35986034],\n",
       "       [0.62876821, 0.37123179],\n",
       "       [0.58877545, 0.41122455],\n",
       "       [0.62876821, 0.37123179],\n",
       "       [0.61560095, 0.38439905],\n",
       "       [0.63398437, 0.36601563],\n",
       "       [0.64690541, 0.35309459],\n",
       "       [0.63835894, 0.36164106],\n",
       "       [0.62876821, 0.37123179],\n",
       "       [0.64531408, 0.35468592],\n",
       "       [0.63398437, 0.36601563],\n",
       "       [0.64529175, 0.35470825],\n",
       "       [0.63148867, 0.36851133],\n",
       "       [0.58345477, 0.41654523],\n",
       "       [0.62264556, 0.37735444],\n",
       "       [0.64531408, 0.35468592],\n",
       "       [0.59880446, 0.40119554],\n",
       "       [0.62876821, 0.37123179],\n",
       "       [0.46252279, 0.53747721],\n",
       "       [0.62876821, 0.37123179],\n",
       "       [0.59868146, 0.40131854],\n",
       "       [0.62884219, 0.37115781],\n",
       "       [0.64013966, 0.35986034],\n",
       "       [0.57207109, 0.42792891],\n",
       "       [0.6192395 , 0.3807605 ],\n",
       "       [0.63631345, 0.36368655],\n",
       "       [0.60761825, 0.39238175],\n",
       "       [0.61560095, 0.38439905],\n",
       "       [0.58345477, 0.41654523],\n",
       "       [0.63631345, 0.36368655],\n",
       "       [0.64604149, 0.35395851],\n",
       "       [0.62876821, 0.37123179],\n",
       "       [0.62876821, 0.37123179],\n",
       "       [0.55969127, 0.44030873],\n",
       "       [0.62876821, 0.37123179],\n",
       "       [0.63625703, 0.36374297],\n",
       "       [0.61172787, 0.38827213],\n",
       "       [0.59385049, 0.40614951],\n",
       "       [0.62876821, 0.37123179],\n",
       "       [0.63625703, 0.36374297],\n",
       "       [0.63625703, 0.36374297],\n",
       "       [0.59868146, 0.40131854],\n",
       "       [0.6032701 , 0.3967299 ],\n",
       "       [0.64486164, 0.35513836],\n",
       "       [0.60761825, 0.39238175],\n",
       "       [0.62876821, 0.37123179],\n",
       "       [0.62876821, 0.37123179],\n",
       "       [0.62264556, 0.37735444],\n",
       "       [0.6192395 , 0.3807605 ],\n",
       "       [0.6032701 , 0.3967299 ],\n",
       "       [0.63625703, 0.36374297],\n",
       "       [0.57207109, 0.42792891],\n",
       "       [0.62876821, 0.37123179],\n",
       "       [0.62876821, 0.37123179],\n",
       "       [0.58359697, 0.41640303],\n",
       "       [0.62876821, 0.37123179],\n",
       "       [0.46485056, 0.53514944],\n",
       "       [0.64175253, 0.35824747],\n",
       "       [0.64018459, 0.35981541],\n",
       "       [0.58877545, 0.41122455],\n",
       "       [0.62876821, 0.37123179],\n",
       "       [0.55330133, 0.44669867],\n",
       "       [0.56600603, 0.43399397],\n",
       "       [0.59385049, 0.40614951],\n",
       "       [0.63398437, 0.36601563],\n",
       "       [0.63625703, 0.36374297],\n",
       "       [0.63830829, 0.36169171],\n",
       "       [0.57788703, 0.42211297],\n",
       "       [0.63835894, 0.36164106],\n",
       "       [0.61560095, 0.38439905],\n",
       "       [0.62273148, 0.37726852],\n",
       "       [0.51657653, 0.48342347],\n",
       "       [0.53193679, 0.46806321],\n",
       "       [0.64013966, 0.35986034],\n",
       "       [0.59385049, 0.40614951],\n",
       "       [0.63925137, 0.36074863],\n",
       "       [0.46485056, 0.53514944],\n",
       "       [0.64531408, 0.35468592],\n",
       "       [0.62876821, 0.37123179],\n",
       "       [0.59385049, 0.40614951],\n",
       "       [0.6032701 , 0.3967299 ],\n",
       "       [0.49173773, 0.50826227]])"
      ]
     },
     "execution_count": 21,
     "metadata": {},
     "output_type": "execute_result"
    }
   ],
   "source": [
    "y_pred"
   ]
  },
  {
   "cell_type": "markdown",
   "id": "837a904a",
   "metadata": {},
   "source": [
    "*The probability values are displayed.We need to convert them into binary values of 0 and 1.*"
   ]
  },
  {
   "cell_type": "code",
   "execution_count": 22,
   "id": "a3f15358",
   "metadata": {},
   "outputs": [],
   "source": [
    "y_pred=model.predict(x_test)"
   ]
  },
  {
   "cell_type": "code",
   "execution_count": 23,
   "id": "d54c5fbc",
   "metadata": {},
   "outputs": [
    {
     "data": {
      "text/plain": [
       "array([0, 0, 0, 0, 0, 0, 0, 0, 0, 0, 0, 0, 0, 0, 0, 0, 0, 0, 0, 1, 0, 0,\n",
       "       0, 0, 0, 0, 0, 0, 0, 1, 0, 0, 0, 0, 0, 0, 0, 0, 0, 0, 0, 0, 0, 0,\n",
       "       0, 0, 0, 0, 0, 0, 0, 0, 1, 0, 0, 0, 0, 0, 0, 0, 0, 0, 0, 0, 0, 0,\n",
       "       0, 0, 1, 0, 0, 0, 0, 0, 0, 0, 0, 0, 0, 0, 0, 0, 0, 0, 0, 0, 0, 0,\n",
       "       0, 0, 0, 0, 1, 0, 0, 0, 0, 0, 0, 0, 0, 0, 0, 0, 0, 0, 0, 0, 0, 0,\n",
       "       0, 0, 0, 0, 0, 0, 0, 0, 0, 0, 0, 0, 0, 0, 0, 0, 0, 0, 0, 0, 0, 0,\n",
       "       0, 0, 0, 0, 0, 0, 0, 0, 0, 0, 0, 0, 0, 0, 0, 0, 0, 0, 0, 0, 0, 0,\n",
       "       0, 0, 0, 0, 0, 1, 0, 0, 0, 0, 0, 0, 0, 0, 0, 0, 0, 0, 0, 0, 0, 0,\n",
       "       0, 0, 0, 0, 0, 0, 0, 0, 0, 0, 0, 0, 0, 0, 0, 0, 0, 0, 0, 0, 0, 1,\n",
       "       0, 0, 0, 0, 0, 0, 0, 0, 0, 0, 0, 0, 0, 0, 0, 0, 0, 0, 0, 1, 0, 0,\n",
       "       0, 0, 1], dtype=int64)"
      ]
     },
     "execution_count": 23,
     "metadata": {},
     "output_type": "execute_result"
    }
   ],
   "source": [
    "y_pred"
   ]
  },
  {
   "cell_type": "code",
   "execution_count": 24,
   "id": "3c7ff778",
   "metadata": {},
   "outputs": [
    {
     "data": {
      "text/plain": [
       "495    0\n",
       "648    0\n",
       "278    0\n",
       "31     1\n",
       "255    1\n",
       "      ..\n",
       "167    0\n",
       "306    1\n",
       "379    0\n",
       "742    1\n",
       "10     1\n",
       "Name: survived, Length: 223, dtype: int64"
      ]
     },
     "execution_count": 24,
     "metadata": {},
     "output_type": "execute_result"
    }
   ],
   "source": [
    "y_test"
   ]
  },
  {
   "cell_type": "markdown",
   "id": "0b266b07",
   "metadata": {},
   "source": [
    "## Determing the accuracy"
   ]
  },
  {
   "cell_type": "markdown",
   "id": "666a2af4",
   "metadata": {},
   "source": [
    "**Accuracy** is given by (True Positive+True Negative)/Total no. of entries"
   ]
  },
  {
   "cell_type": "code",
   "execution_count": 25,
   "id": "72fc8927",
   "metadata": {},
   "outputs": [],
   "source": [
    "from sklearn.metrics import accuracy_score"
   ]
  },
  {
   "cell_type": "code",
   "execution_count": 26,
   "id": "bc1acf4f",
   "metadata": {},
   "outputs": [
    {
     "data": {
      "text/plain": [
       "0.6547085201793722"
      ]
     },
     "execution_count": 26,
     "metadata": {},
     "output_type": "execute_result"
    }
   ],
   "source": [
    "accuracy_score(y_test, y_pred)"
   ]
  },
  {
   "cell_type": "markdown",
   "id": "b4e86f2b",
   "metadata": {},
   "source": [
    "**The accuracy of the model is 65.47%.**\n",
    "\n",
    "*Hence we have predicted the survival on the basis of age.*"
   ]
  },
  {
   "cell_type": "markdown",
   "id": "48cd67d3",
   "metadata": {},
   "source": [
    "## Predicting the survival on the basis of pclass"
   ]
  },
  {
   "cell_type": "code",
   "execution_count": 27,
   "id": "53d48fed",
   "metadata": {},
   "outputs": [],
   "source": [
    "x=ds['pclass'].values\n",
    "y=ds['survived']"
   ]
  },
  {
   "cell_type": "code",
   "execution_count": 28,
   "id": "059183c8",
   "metadata": {},
   "outputs": [],
   "source": [
    "x=x.reshape(-1,1)"
   ]
  },
  {
   "cell_type": "code",
   "execution_count": 29,
   "id": "64e6f787",
   "metadata": {},
   "outputs": [
    {
     "data": {
      "text/plain": [
       "(891, 1)"
      ]
     },
     "execution_count": 29,
     "metadata": {},
     "output_type": "execute_result"
    }
   ],
   "source": [
    "x.shape"
   ]
  },
  {
   "cell_type": "code",
   "execution_count": 30,
   "id": "f110fc22",
   "metadata": {},
   "outputs": [],
   "source": [
    "x_train,x_test,y_train,y_test = train_test_split(x,y,random_state=0,test_size=0.25)\n",
    "#Updating all the values once again"
   ]
  },
  {
   "cell_type": "code",
   "execution_count": 31,
   "id": "ab149987",
   "metadata": {},
   "outputs": [],
   "source": [
    "model = GaussianNB()"
   ]
  },
  {
   "cell_type": "code",
   "execution_count": 32,
   "id": "452e4d7b",
   "metadata": {},
   "outputs": [
    {
     "data": {
      "text/plain": [
       "GaussianNB()"
      ]
     },
     "execution_count": 32,
     "metadata": {},
     "output_type": "execute_result"
    }
   ],
   "source": [
    "model.fit(x_train,y_train)"
   ]
  },
  {
   "cell_type": "code",
   "execution_count": 33,
   "id": "84fc5b02",
   "metadata": {},
   "outputs": [
    {
     "data": {
      "text/plain": [
       "array([[0.7559945 , 0.2440055 ],\n",
       "       [0.7559945 , 0.2440055 ],\n",
       "       [0.7559945 , 0.2440055 ],\n",
       "       [0.29957107, 0.70042893],\n",
       "       [0.7559945 , 0.2440055 ],\n",
       "       [0.29957107, 0.70042893],\n",
       "       [0.29957107, 0.70042893],\n",
       "       [0.29957107, 0.70042893],\n",
       "       [0.29957107, 0.70042893],\n",
       "       [0.7559945 , 0.2440055 ],\n",
       "       [0.7559945 , 0.2440055 ],\n",
       "       [0.58864036, 0.41135964],\n",
       "       [0.7559945 , 0.2440055 ],\n",
       "       [0.58864036, 0.41135964],\n",
       "       [0.29957107, 0.70042893],\n",
       "       [0.7559945 , 0.2440055 ],\n",
       "       [0.7559945 , 0.2440055 ],\n",
       "       [0.58864036, 0.41135964],\n",
       "       [0.7559945 , 0.2440055 ],\n",
       "       [0.7559945 , 0.2440055 ],\n",
       "       [0.58864036, 0.41135964],\n",
       "       [0.29957107, 0.70042893],\n",
       "       [0.7559945 , 0.2440055 ],\n",
       "       [0.29957107, 0.70042893],\n",
       "       [0.7559945 , 0.2440055 ],\n",
       "       [0.29957107, 0.70042893],\n",
       "       [0.7559945 , 0.2440055 ],\n",
       "       [0.7559945 , 0.2440055 ],\n",
       "       [0.58864036, 0.41135964],\n",
       "       [0.7559945 , 0.2440055 ],\n",
       "       [0.7559945 , 0.2440055 ],\n",
       "       [0.58864036, 0.41135964],\n",
       "       [0.7559945 , 0.2440055 ],\n",
       "       [0.29957107, 0.70042893],\n",
       "       [0.7559945 , 0.2440055 ],\n",
       "       [0.29957107, 0.70042893],\n",
       "       [0.7559945 , 0.2440055 ],\n",
       "       [0.58864036, 0.41135964],\n",
       "       [0.58864036, 0.41135964],\n",
       "       [0.58864036, 0.41135964],\n",
       "       [0.29957107, 0.70042893],\n",
       "       [0.7559945 , 0.2440055 ],\n",
       "       [0.7559945 , 0.2440055 ],\n",
       "       [0.7559945 , 0.2440055 ],\n",
       "       [0.29957107, 0.70042893],\n",
       "       [0.7559945 , 0.2440055 ],\n",
       "       [0.7559945 , 0.2440055 ],\n",
       "       [0.29957107, 0.70042893],\n",
       "       [0.58864036, 0.41135964],\n",
       "       [0.29957107, 0.70042893],\n",
       "       [0.29957107, 0.70042893],\n",
       "       [0.29957107, 0.70042893],\n",
       "       [0.58864036, 0.41135964],\n",
       "       [0.7559945 , 0.2440055 ],\n",
       "       [0.29957107, 0.70042893],\n",
       "       [0.58864036, 0.41135964],\n",
       "       [0.29957107, 0.70042893],\n",
       "       [0.7559945 , 0.2440055 ],\n",
       "       [0.7559945 , 0.2440055 ],\n",
       "       [0.7559945 , 0.2440055 ],\n",
       "       [0.7559945 , 0.2440055 ],\n",
       "       [0.7559945 , 0.2440055 ],\n",
       "       [0.29957107, 0.70042893],\n",
       "       [0.29957107, 0.70042893],\n",
       "       [0.7559945 , 0.2440055 ],\n",
       "       [0.7559945 , 0.2440055 ],\n",
       "       [0.29957107, 0.70042893],\n",
       "       [0.58864036, 0.41135964],\n",
       "       [0.58864036, 0.41135964],\n",
       "       [0.29957107, 0.70042893],\n",
       "       [0.58864036, 0.41135964],\n",
       "       [0.29957107, 0.70042893],\n",
       "       [0.29957107, 0.70042893],\n",
       "       [0.7559945 , 0.2440055 ],\n",
       "       [0.7559945 , 0.2440055 ],\n",
       "       [0.58864036, 0.41135964],\n",
       "       [0.29957107, 0.70042893],\n",
       "       [0.29957107, 0.70042893],\n",
       "       [0.7559945 , 0.2440055 ],\n",
       "       [0.58864036, 0.41135964],\n",
       "       [0.7559945 , 0.2440055 ],\n",
       "       [0.7559945 , 0.2440055 ],\n",
       "       [0.58864036, 0.41135964],\n",
       "       [0.7559945 , 0.2440055 ],\n",
       "       [0.58864036, 0.41135964],\n",
       "       [0.29957107, 0.70042893],\n",
       "       [0.29957107, 0.70042893],\n",
       "       [0.7559945 , 0.2440055 ],\n",
       "       [0.58864036, 0.41135964],\n",
       "       [0.29957107, 0.70042893],\n",
       "       [0.29957107, 0.70042893],\n",
       "       [0.7559945 , 0.2440055 ],\n",
       "       [0.58864036, 0.41135964],\n",
       "       [0.29957107, 0.70042893],\n",
       "       [0.7559945 , 0.2440055 ],\n",
       "       [0.7559945 , 0.2440055 ],\n",
       "       [0.58864036, 0.41135964],\n",
       "       [0.7559945 , 0.2440055 ],\n",
       "       [0.29957107, 0.70042893],\n",
       "       [0.29957107, 0.70042893],\n",
       "       [0.7559945 , 0.2440055 ],\n",
       "       [0.58864036, 0.41135964],\n",
       "       [0.7559945 , 0.2440055 ],\n",
       "       [0.7559945 , 0.2440055 ],\n",
       "       [0.7559945 , 0.2440055 ],\n",
       "       [0.7559945 , 0.2440055 ],\n",
       "       [0.58864036, 0.41135964],\n",
       "       [0.7559945 , 0.2440055 ],\n",
       "       [0.58864036, 0.41135964],\n",
       "       [0.7559945 , 0.2440055 ],\n",
       "       [0.7559945 , 0.2440055 ],\n",
       "       [0.29957107, 0.70042893],\n",
       "       [0.7559945 , 0.2440055 ],\n",
       "       [0.7559945 , 0.2440055 ],\n",
       "       [0.29957107, 0.70042893],\n",
       "       [0.58864036, 0.41135964],\n",
       "       [0.7559945 , 0.2440055 ],\n",
       "       [0.29957107, 0.70042893],\n",
       "       [0.7559945 , 0.2440055 ],\n",
       "       [0.58864036, 0.41135964],\n",
       "       [0.7559945 , 0.2440055 ],\n",
       "       [0.7559945 , 0.2440055 ],\n",
       "       [0.7559945 , 0.2440055 ],\n",
       "       [0.29957107, 0.70042893],\n",
       "       [0.7559945 , 0.2440055 ],\n",
       "       [0.29957107, 0.70042893],\n",
       "       [0.7559945 , 0.2440055 ],\n",
       "       [0.7559945 , 0.2440055 ],\n",
       "       [0.58864036, 0.41135964],\n",
       "       [0.58864036, 0.41135964],\n",
       "       [0.7559945 , 0.2440055 ],\n",
       "       [0.7559945 , 0.2440055 ],\n",
       "       [0.7559945 , 0.2440055 ],\n",
       "       [0.7559945 , 0.2440055 ],\n",
       "       [0.29957107, 0.70042893],\n",
       "       [0.7559945 , 0.2440055 ],\n",
       "       [0.7559945 , 0.2440055 ],\n",
       "       [0.7559945 , 0.2440055 ],\n",
       "       [0.58864036, 0.41135964],\n",
       "       [0.58864036, 0.41135964],\n",
       "       [0.58864036, 0.41135964],\n",
       "       [0.29957107, 0.70042893],\n",
       "       [0.7559945 , 0.2440055 ],\n",
       "       [0.7559945 , 0.2440055 ],\n",
       "       [0.58864036, 0.41135964],\n",
       "       [0.7559945 , 0.2440055 ],\n",
       "       [0.58864036, 0.41135964],\n",
       "       [0.58864036, 0.41135964],\n",
       "       [0.29957107, 0.70042893],\n",
       "       [0.7559945 , 0.2440055 ],\n",
       "       [0.29957107, 0.70042893],\n",
       "       [0.7559945 , 0.2440055 ],\n",
       "       [0.7559945 , 0.2440055 ],\n",
       "       [0.7559945 , 0.2440055 ],\n",
       "       [0.58864036, 0.41135964],\n",
       "       [0.58864036, 0.41135964],\n",
       "       [0.7559945 , 0.2440055 ],\n",
       "       [0.58864036, 0.41135964],\n",
       "       [0.7559945 , 0.2440055 ],\n",
       "       [0.7559945 , 0.2440055 ],\n",
       "       [0.7559945 , 0.2440055 ],\n",
       "       [0.7559945 , 0.2440055 ],\n",
       "       [0.29957107, 0.70042893],\n",
       "       [0.7559945 , 0.2440055 ],\n",
       "       [0.7559945 , 0.2440055 ],\n",
       "       [0.7559945 , 0.2440055 ],\n",
       "       [0.7559945 , 0.2440055 ],\n",
       "       [0.7559945 , 0.2440055 ],\n",
       "       [0.7559945 , 0.2440055 ],\n",
       "       [0.7559945 , 0.2440055 ],\n",
       "       [0.7559945 , 0.2440055 ],\n",
       "       [0.29957107, 0.70042893],\n",
       "       [0.7559945 , 0.2440055 ],\n",
       "       [0.7559945 , 0.2440055 ],\n",
       "       [0.7559945 , 0.2440055 ],\n",
       "       [0.7559945 , 0.2440055 ],\n",
       "       [0.29957107, 0.70042893],\n",
       "       [0.7559945 , 0.2440055 ],\n",
       "       [0.7559945 , 0.2440055 ],\n",
       "       [0.7559945 , 0.2440055 ],\n",
       "       [0.58864036, 0.41135964],\n",
       "       [0.58864036, 0.41135964],\n",
       "       [0.7559945 , 0.2440055 ],\n",
       "       [0.7559945 , 0.2440055 ],\n",
       "       [0.29957107, 0.70042893],\n",
       "       [0.7559945 , 0.2440055 ],\n",
       "       [0.7559945 , 0.2440055 ],\n",
       "       [0.58864036, 0.41135964],\n",
       "       [0.7559945 , 0.2440055 ],\n",
       "       [0.58864036, 0.41135964],\n",
       "       [0.7559945 , 0.2440055 ],\n",
       "       [0.29957107, 0.70042893],\n",
       "       [0.7559945 , 0.2440055 ],\n",
       "       [0.7559945 , 0.2440055 ],\n",
       "       [0.7559945 , 0.2440055 ],\n",
       "       [0.29957107, 0.70042893],\n",
       "       [0.7559945 , 0.2440055 ],\n",
       "       [0.7559945 , 0.2440055 ],\n",
       "       [0.29957107, 0.70042893],\n",
       "       [0.7559945 , 0.2440055 ],\n",
       "       [0.7559945 , 0.2440055 ],\n",
       "       [0.7559945 , 0.2440055 ],\n",
       "       [0.58864036, 0.41135964],\n",
       "       [0.7559945 , 0.2440055 ],\n",
       "       [0.7559945 , 0.2440055 ],\n",
       "       [0.58864036, 0.41135964],\n",
       "       [0.7559945 , 0.2440055 ],\n",
       "       [0.7559945 , 0.2440055 ],\n",
       "       [0.7559945 , 0.2440055 ],\n",
       "       [0.7559945 , 0.2440055 ],\n",
       "       [0.7559945 , 0.2440055 ],\n",
       "       [0.29957107, 0.70042893],\n",
       "       [0.7559945 , 0.2440055 ],\n",
       "       [0.7559945 , 0.2440055 ],\n",
       "       [0.58864036, 0.41135964],\n",
       "       [0.7559945 , 0.2440055 ],\n",
       "       [0.58864036, 0.41135964],\n",
       "       [0.7559945 , 0.2440055 ],\n",
       "       [0.7559945 , 0.2440055 ],\n",
       "       [0.29957107, 0.70042893],\n",
       "       [0.7559945 , 0.2440055 ],\n",
       "       [0.29957107, 0.70042893],\n",
       "       [0.7559945 , 0.2440055 ]])"
      ]
     },
     "execution_count": 33,
     "metadata": {},
     "output_type": "execute_result"
    }
   ],
   "source": [
    "model.predict_proba(x_test)"
   ]
  },
  {
   "cell_type": "code",
   "execution_count": 34,
   "id": "b63f3907",
   "metadata": {},
   "outputs": [],
   "source": [
    "y_pred=model.predict(x_test)"
   ]
  },
  {
   "cell_type": "markdown",
   "id": "a2f8e5d9",
   "metadata": {},
   "source": [
    "**Determining the Accuracy**"
   ]
  },
  {
   "cell_type": "code",
   "execution_count": 35,
   "id": "6dc758b7",
   "metadata": {},
   "outputs": [
    {
     "data": {
      "text/plain": [
       "0.7085201793721974"
      ]
     },
     "execution_count": 35,
     "metadata": {},
     "output_type": "execute_result"
    }
   ],
   "source": [
    "accuracy_score(y_test, y_pred)"
   ]
  },
  {
   "cell_type": "markdown",
   "id": "b465dc34",
   "metadata": {},
   "source": [
    "*The accuracy score is 70.85% compared to previous attribute.Hence,we can say that pclass attribute gives more accuarcy.*"
   ]
  },
  {
   "cell_type": "markdown",
   "id": "e76fb9e1",
   "metadata": {},
   "source": [
    "## We will now use two columns and determine the accuracy"
   ]
  },
  {
   "cell_type": "code",
   "execution_count": 36,
   "id": "f2c62a6a",
   "metadata": {},
   "outputs": [],
   "source": [
    "x = ds[['sex','pclass']]\n",
    "y = ds['survived']"
   ]
  },
  {
   "cell_type": "code",
   "execution_count": 37,
   "id": "3d8054f7",
   "metadata": {},
   "outputs": [
    {
     "data": {
      "text/plain": [
       "0      male\n",
       "1    female\n",
       "2    female\n",
       "3    female\n",
       "4      male\n",
       "Name: sex, dtype: object"
      ]
     },
     "execution_count": 37,
     "metadata": {},
     "output_type": "execute_result"
    }
   ],
   "source": [
    "x['sex'].head()"
   ]
  },
  {
   "cell_type": "markdown",
   "id": "7b2a4633",
   "metadata": {},
   "source": [
    "*We will encode the entries in a certain format.*"
   ]
  },
  {
   "cell_type": "code",
   "execution_count": 38,
   "id": "bbb46e8c",
   "metadata": {},
   "outputs": [],
   "source": [
    "from sklearn.preprocessing import LabelEncoder"
   ]
  },
  {
   "cell_type": "code",
   "execution_count": 39,
   "id": "58bade03",
   "metadata": {},
   "outputs": [],
   "source": [
    "enc=LabelEncoder()"
   ]
  },
  {
   "cell_type": "code",
   "execution_count": 40,
   "id": "f9c2992a",
   "metadata": {},
   "outputs": [
    {
     "name": "stderr",
     "output_type": "stream",
     "text": [
      "<ipython-input-40-73f7db3864a1>:1: SettingWithCopyWarning: \n",
      "A value is trying to be set on a copy of a slice from a DataFrame.\n",
      "Try using .loc[row_indexer,col_indexer] = value instead\n",
      "\n",
      "See the caveats in the documentation: https://pandas.pydata.org/pandas-docs/stable/user_guide/indexing.html#returning-a-view-versus-a-copy\n",
      "  x['sex']=enc.fit_transform(x['sex']) #Converting the strings into number\n"
     ]
    }
   ],
   "source": [
    "x['sex']=enc.fit_transform(x['sex']) #Converting the strings into number"
   ]
  },
  {
   "cell_type": "code",
   "execution_count": 41,
   "id": "ff9cf3c5",
   "metadata": {},
   "outputs": [
    {
     "data": {
      "text/plain": [
       "0    1\n",
       "1    0\n",
       "2    0\n",
       "3    0\n",
       "4    1\n",
       "Name: sex, dtype: int32"
      ]
     },
     "execution_count": 41,
     "metadata": {},
     "output_type": "execute_result"
    }
   ],
   "source": [
    "x['sex'].head() #male-1 female-0"
   ]
  },
  {
   "cell_type": "code",
   "execution_count": 42,
   "id": "0b099884",
   "metadata": {},
   "outputs": [],
   "source": [
    "x_train,x_test,y_train,y_test = train_test_split(x,y,random_state=0,test_size=0.25)"
   ]
  },
  {
   "cell_type": "code",
   "execution_count": 43,
   "id": "f4264feb",
   "metadata": {},
   "outputs": [],
   "source": [
    "model=GaussianNB()"
   ]
  },
  {
   "cell_type": "code",
   "execution_count": 44,
   "id": "04752b06",
   "metadata": {},
   "outputs": [
    {
     "data": {
      "text/plain": [
       "GaussianNB()"
      ]
     },
     "execution_count": 44,
     "metadata": {},
     "output_type": "execute_result"
    }
   ],
   "source": [
    "model.fit(x_train,y_train)"
   ]
  },
  {
   "cell_type": "code",
   "execution_count": 45,
   "id": "0a8abb91",
   "metadata": {},
   "outputs": [
    {
     "data": {
      "text/plain": [
       "array([[0.91599965, 0.08400035],\n",
       "       [0.91599965, 0.08400035],\n",
       "       [0.91599965, 0.08400035],\n",
       "       [0.03226176, 0.96773824],\n",
       "       [0.19452137, 0.80547863],\n",
       "       [0.60085059, 0.39914941],\n",
       "       [0.03226176, 0.96773824],\n",
       "       [0.03226176, 0.96773824],\n",
       "       [0.60085059, 0.39914941],\n",
       "       [0.19452137, 0.80547863],\n",
       "       [0.91599965, 0.08400035],\n",
       "       [0.1003456 , 0.8996544 ],\n",
       "       [0.91599965, 0.08400035],\n",
       "       [0.1003456 , 0.8996544 ],\n",
       "       [0.03226176, 0.96773824],\n",
       "       [0.19452137, 0.80547863],\n",
       "       [0.91599965, 0.08400035],\n",
       "       [0.83433941, 0.16566059],\n",
       "       [0.91599965, 0.08400035],\n",
       "       [0.91599965, 0.08400035],\n",
       "       [0.83433941, 0.16566059],\n",
       "       [0.03226176, 0.96773824],\n",
       "       [0.91599965, 0.08400035],\n",
       "       [0.60085059, 0.39914941],\n",
       "       [0.19452137, 0.80547863],\n",
       "       [0.03226176, 0.96773824],\n",
       "       [0.91599965, 0.08400035],\n",
       "       [0.19452137, 0.80547863],\n",
       "       [0.1003456 , 0.8996544 ],\n",
       "       [0.19452137, 0.80547863],\n",
       "       [0.91599965, 0.08400035],\n",
       "       [0.1003456 , 0.8996544 ],\n",
       "       [0.91599965, 0.08400035],\n",
       "       [0.60085059, 0.39914941],\n",
       "       [0.91599965, 0.08400035],\n",
       "       [0.60085059, 0.39914941],\n",
       "       [0.91599965, 0.08400035],\n",
       "       [0.83433941, 0.16566059],\n",
       "       [0.83433941, 0.16566059],\n",
       "       [0.83433941, 0.16566059],\n",
       "       [0.60085059, 0.39914941],\n",
       "       [0.91599965, 0.08400035],\n",
       "       [0.91599965, 0.08400035],\n",
       "       [0.91599965, 0.08400035],\n",
       "       [0.03226176, 0.96773824],\n",
       "       [0.91599965, 0.08400035],\n",
       "       [0.91599965, 0.08400035],\n",
       "       [0.03226176, 0.96773824],\n",
       "       [0.83433941, 0.16566059],\n",
       "       [0.60085059, 0.39914941],\n",
       "       [0.60085059, 0.39914941],\n",
       "       [0.60085059, 0.39914941],\n",
       "       [0.1003456 , 0.8996544 ],\n",
       "       [0.91599965, 0.08400035],\n",
       "       [0.60085059, 0.39914941],\n",
       "       [0.83433941, 0.16566059],\n",
       "       [0.60085059, 0.39914941],\n",
       "       [0.19452137, 0.80547863],\n",
       "       [0.91599965, 0.08400035],\n",
       "       [0.91599965, 0.08400035],\n",
       "       [0.91599965, 0.08400035],\n",
       "       [0.19452137, 0.80547863],\n",
       "       [0.03226176, 0.96773824],\n",
       "       [0.60085059, 0.39914941],\n",
       "       [0.19452137, 0.80547863],\n",
       "       [0.91599965, 0.08400035],\n",
       "       [0.03226176, 0.96773824],\n",
       "       [0.83433941, 0.16566059],\n",
       "       [0.1003456 , 0.8996544 ],\n",
       "       [0.03226176, 0.96773824],\n",
       "       [0.1003456 , 0.8996544 ],\n",
       "       [0.60085059, 0.39914941],\n",
       "       [0.60085059, 0.39914941],\n",
       "       [0.91599965, 0.08400035],\n",
       "       [0.91599965, 0.08400035],\n",
       "       [0.1003456 , 0.8996544 ],\n",
       "       [0.60085059, 0.39914941],\n",
       "       [0.60085059, 0.39914941],\n",
       "       [0.91599965, 0.08400035],\n",
       "       [0.83433941, 0.16566059],\n",
       "       [0.91599965, 0.08400035],\n",
       "       [0.91599965, 0.08400035],\n",
       "       [0.1003456 , 0.8996544 ],\n",
       "       [0.91599965, 0.08400035],\n",
       "       [0.83433941, 0.16566059],\n",
       "       [0.03226176, 0.96773824],\n",
       "       [0.03226176, 0.96773824],\n",
       "       [0.19452137, 0.80547863],\n",
       "       [0.1003456 , 0.8996544 ],\n",
       "       [0.60085059, 0.39914941],\n",
       "       [0.60085059, 0.39914941],\n",
       "       [0.91599965, 0.08400035],\n",
       "       [0.83433941, 0.16566059],\n",
       "       [0.03226176, 0.96773824],\n",
       "       [0.19452137, 0.80547863],\n",
       "       [0.91599965, 0.08400035],\n",
       "       [0.1003456 , 0.8996544 ],\n",
       "       [0.91599965, 0.08400035],\n",
       "       [0.60085059, 0.39914941],\n",
       "       [0.60085059, 0.39914941],\n",
       "       [0.91599965, 0.08400035],\n",
       "       [0.83433941, 0.16566059],\n",
       "       [0.91599965, 0.08400035],\n",
       "       [0.91599965, 0.08400035],\n",
       "       [0.19452137, 0.80547863],\n",
       "       [0.19452137, 0.80547863],\n",
       "       [0.1003456 , 0.8996544 ],\n",
       "       [0.19452137, 0.80547863],\n",
       "       [0.83433941, 0.16566059],\n",
       "       [0.19452137, 0.80547863],\n",
       "       [0.91599965, 0.08400035],\n",
       "       [0.03226176, 0.96773824],\n",
       "       [0.91599965, 0.08400035],\n",
       "       [0.19452137, 0.80547863],\n",
       "       [0.60085059, 0.39914941],\n",
       "       [0.1003456 , 0.8996544 ],\n",
       "       [0.19452137, 0.80547863],\n",
       "       [0.03226176, 0.96773824],\n",
       "       [0.91599965, 0.08400035],\n",
       "       [0.1003456 , 0.8996544 ],\n",
       "       [0.91599965, 0.08400035],\n",
       "       [0.91599965, 0.08400035],\n",
       "       [0.91599965, 0.08400035],\n",
       "       [0.60085059, 0.39914941],\n",
       "       [0.91599965, 0.08400035],\n",
       "       [0.60085059, 0.39914941],\n",
       "       [0.91599965, 0.08400035],\n",
       "       [0.91599965, 0.08400035],\n",
       "       [0.83433941, 0.16566059],\n",
       "       [0.83433941, 0.16566059],\n",
       "       [0.19452137, 0.80547863],\n",
       "       [0.91599965, 0.08400035],\n",
       "       [0.91599965, 0.08400035],\n",
       "       [0.19452137, 0.80547863],\n",
       "       [0.60085059, 0.39914941],\n",
       "       [0.91599965, 0.08400035],\n",
       "       [0.91599965, 0.08400035],\n",
       "       [0.19452137, 0.80547863],\n",
       "       [0.83433941, 0.16566059],\n",
       "       [0.83433941, 0.16566059],\n",
       "       [0.83433941, 0.16566059],\n",
       "       [0.03226176, 0.96773824],\n",
       "       [0.91599965, 0.08400035],\n",
       "       [0.19452137, 0.80547863],\n",
       "       [0.1003456 , 0.8996544 ],\n",
       "       [0.19452137, 0.80547863],\n",
       "       [0.83433941, 0.16566059],\n",
       "       [0.1003456 , 0.8996544 ],\n",
       "       [0.03226176, 0.96773824],\n",
       "       [0.91599965, 0.08400035],\n",
       "       [0.60085059, 0.39914941],\n",
       "       [0.19452137, 0.80547863],\n",
       "       [0.19452137, 0.80547863],\n",
       "       [0.91599965, 0.08400035],\n",
       "       [0.1003456 , 0.8996544 ],\n",
       "       [0.83433941, 0.16566059],\n",
       "       [0.19452137, 0.80547863],\n",
       "       [0.83433941, 0.16566059],\n",
       "       [0.19452137, 0.80547863],\n",
       "       [0.19452137, 0.80547863],\n",
       "       [0.91599965, 0.08400035],\n",
       "       [0.91599965, 0.08400035],\n",
       "       [0.03226176, 0.96773824],\n",
       "       [0.19452137, 0.80547863],\n",
       "       [0.91599965, 0.08400035],\n",
       "       [0.91599965, 0.08400035],\n",
       "       [0.91599965, 0.08400035],\n",
       "       [0.91599965, 0.08400035],\n",
       "       [0.91599965, 0.08400035],\n",
       "       [0.91599965, 0.08400035],\n",
       "       [0.91599965, 0.08400035],\n",
       "       [0.03226176, 0.96773824],\n",
       "       [0.91599965, 0.08400035],\n",
       "       [0.91599965, 0.08400035],\n",
       "       [0.19452137, 0.80547863],\n",
       "       [0.91599965, 0.08400035],\n",
       "       [0.03226176, 0.96773824],\n",
       "       [0.91599965, 0.08400035],\n",
       "       [0.91599965, 0.08400035],\n",
       "       [0.19452137, 0.80547863],\n",
       "       [0.83433941, 0.16566059],\n",
       "       [0.83433941, 0.16566059],\n",
       "       [0.91599965, 0.08400035],\n",
       "       [0.91599965, 0.08400035],\n",
       "       [0.60085059, 0.39914941],\n",
       "       [0.91599965, 0.08400035],\n",
       "       [0.19452137, 0.80547863],\n",
       "       [0.83433941, 0.16566059],\n",
       "       [0.91599965, 0.08400035],\n",
       "       [0.1003456 , 0.8996544 ],\n",
       "       [0.19452137, 0.80547863],\n",
       "       [0.60085059, 0.39914941],\n",
       "       [0.19452137, 0.80547863],\n",
       "       [0.19452137, 0.80547863],\n",
       "       [0.91599965, 0.08400035],\n",
       "       [0.60085059, 0.39914941],\n",
       "       [0.91599965, 0.08400035],\n",
       "       [0.19452137, 0.80547863],\n",
       "       [0.60085059, 0.39914941],\n",
       "       [0.91599965, 0.08400035],\n",
       "       [0.91599965, 0.08400035],\n",
       "       [0.19452137, 0.80547863],\n",
       "       [0.83433941, 0.16566059],\n",
       "       [0.19452137, 0.80547863],\n",
       "       [0.91599965, 0.08400035],\n",
       "       [0.83433941, 0.16566059],\n",
       "       [0.19452137, 0.80547863],\n",
       "       [0.91599965, 0.08400035],\n",
       "       [0.19452137, 0.80547863],\n",
       "       [0.91599965, 0.08400035],\n",
       "       [0.91599965, 0.08400035],\n",
       "       [0.60085059, 0.39914941],\n",
       "       [0.91599965, 0.08400035],\n",
       "       [0.19452137, 0.80547863],\n",
       "       [0.83433941, 0.16566059],\n",
       "       [0.91599965, 0.08400035],\n",
       "       [0.83433941, 0.16566059],\n",
       "       [0.91599965, 0.08400035],\n",
       "       [0.19452137, 0.80547863],\n",
       "       [0.03226176, 0.96773824],\n",
       "       [0.91599965, 0.08400035],\n",
       "       [0.03226176, 0.96773824],\n",
       "       [0.19452137, 0.80547863]])"
      ]
     },
     "execution_count": 45,
     "metadata": {},
     "output_type": "execute_result"
    }
   ],
   "source": [
    "model.predict_proba(x_test)"
   ]
  },
  {
   "cell_type": "markdown",
   "id": "95f22609",
   "metadata": {},
   "source": [
    "**By using two variables/attributes we can predict the result more accurately;therefore always use subset of two variables which provide most accurate result.**"
   ]
  },
  {
   "cell_type": "code",
   "execution_count": 46,
   "id": "dead5fb6",
   "metadata": {},
   "outputs": [],
   "source": [
    "y_pred=model.predict(x_test)"
   ]
  },
  {
   "cell_type": "markdown",
   "id": "8c10d8b4",
   "metadata": {},
   "source": [
    "**Determining the accuracy**"
   ]
  },
  {
   "cell_type": "code",
   "execution_count": 47,
   "id": "b75e8770",
   "metadata": {},
   "outputs": [
    {
     "data": {
      "text/plain": [
       "0.7802690582959642"
      ]
     },
     "execution_count": 47,
     "metadata": {},
     "output_type": "execute_result"
    }
   ],
   "source": [
    "accuracy_score(y_test, y_pred)"
   ]
  },
  {
   "cell_type": "markdown",
   "id": "5b8675f9",
   "metadata": {},
   "source": [
    "**Therefore by using the relevant columns we can predict the result with more accuracy.**"
   ]
  },
  {
   "cell_type": "markdown",
   "id": "c9a22f9a",
   "metadata": {},
   "source": [
    "<br>"
   ]
  }
 ],
 "metadata": {
  "kernelspec": {
   "display_name": "Python 3",
   "language": "python",
   "name": "python3"
  },
  "language_info": {
   "codemirror_mode": {
    "name": "ipython",
    "version": 3
   },
   "file_extension": ".py",
   "mimetype": "text/x-python",
   "name": "python",
   "nbconvert_exporter": "python",
   "pygments_lexer": "ipython3",
   "version": "3.8.8"
  }
 },
 "nbformat": 4,
 "nbformat_minor": 5
}
